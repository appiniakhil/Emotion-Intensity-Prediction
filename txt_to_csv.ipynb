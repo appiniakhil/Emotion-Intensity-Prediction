{
 "cells": [
  {
   "cell_type": "code",
   "execution_count": 13,
   "metadata": {},
   "outputs": [
    {
     "name": "stdout",
     "output_type": "stream",
     "text": [
      "Ignoring malformed line: \n",
      "Ignoring malformed line: \n",
      "Ignoring malformed line: \n",
      "Conversion completed successfully.\n"
     ]
    }
   ],
   "source": [
    "import csv\n",
    "\n",
    "# Function to read the input text file and return its contents\n",
    "def read_text_file(file_path):\n",
    "    with open(file_path, 'r', encoding='utf-8') as file:\n",
    "        return file.readlines()\n",
    "\n",
    "# Function to write the data to a CSV file\n",
    "def write_to_csv(data, csv_file):\n",
    "    with open(csv_file, 'w', newline='', encoding='utf-8') as csvfile:\n",
    "        writer = csv.writer(csvfile)\n",
    "        writer.writerow(['ID', 'Text', 'Label', 'Intensity'])  # Header row\n",
    "        writer.writerows(data)\n",
    "\n",
    "# Function to process the contents of the text file\n",
    "def process_text_file(file_lines):\n",
    "    data = []\n",
    "    for line in file_lines:\n",
    "        parts = line.strip().split('\\t')  # Assuming tab-separated values\n",
    "        if len(parts) >= 4:  # Check if there are at least four parts\n",
    "            id_, text, label, intensity = parts[0], parts[1], parts[2], parts[3]  # Extracting ID, Text, Label, and Intensity\n",
    "            data.append([id_, text, label, intensity])\n",
    "        else:\n",
    "            print(f\"Ignoring malformed line: {line.strip()}\")  # Print a message for malformed lines\n",
    "    return data\n",
    "\n",
    "# Input file path\n",
    "input_file_path = 'anger-ratings.txt'\n",
    "\n",
    "# Read the input text file\n",
    "file_lines = read_text_file(input_file_path)\n",
    "\n",
    "# Process the contents of the text file\n",
    "data = process_text_file(file_lines)\n",
    "\n",
    "# Output CSV file path\n",
    "output_csv_file = 'anger-ratings.csv'\n",
    "\n",
    "# Write the data to a CSV file\n",
    "write_to_csv(data, output_csv_file)\n",
    "\n",
    "print(\"Conversion completed successfully.\")\n"
   ]
  }
 ],
 "metadata": {
  "kernelspec": {
   "display_name": "Python 3",
   "language": "python",
   "name": "python3"
  },
  "language_info": {
   "codemirror_mode": {
    "name": "ipython",
    "version": 3
   },
   "file_extension": ".py",
   "mimetype": "text/x-python",
   "name": "python",
   "nbconvert_exporter": "python",
   "pygments_lexer": "ipython3",
   "version": "3.11.5"
  }
 },
 "nbformat": 4,
 "nbformat_minor": 2
}
