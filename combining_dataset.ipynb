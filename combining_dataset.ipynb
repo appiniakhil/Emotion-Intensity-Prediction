{
 "cells": [
  {
   "cell_type": "code",
   "execution_count": 11,
   "metadata": {},
   "outputs": [],
   "source": [
    "# Combine multiple text files into one\n",
    "\n",
    "file_names = [\n",
    "    'data/dev/anger-ratings-0to1.dev.gold.txt',\n",
    "    'data/test/anger-ratings-0to1.test.gold.txt',\n",
    "    'data/train/anger-ratings-0to1.train.txt',\n",
    "]\n",
    "\n",
    "with open('anger-ratings.txt', 'w', encoding='utf-8') as outfile:\n",
    "    for file_name in file_names:\n",
    "        with open(file_name, 'r', encoding='utf-8') as infile:\n",
    "            outfile.write(infile.read() + '\\n')\n"
   ]
  },
  {
   "cell_type": "code",
   "execution_count": 12,
   "metadata": {},
   "outputs": [],
   "source": [
    "# Combine multiple text files into one\n",
    "\n",
    "file_names = [\n",
    "    'data/dev/fear-ratings-0to1.dev.gold.txt',\n",
    "    'data/test/fear-ratings-0to1.test.gold.txt',\n",
    "    'data/train/fear-ratings-0to1.train.txt'\n",
    "]\n",
    "\n",
    "with open('fear-ratings.txt', 'w', encoding='utf-8') as outfile:\n",
    "    for file_name in file_names:\n",
    "        with open(file_name, 'r', encoding='utf-8') as infile:\n",
    "            outfile.write(infile.read() + '\\n')"
   ]
  },
  {
   "cell_type": "code",
   "execution_count": 13,
   "metadata": {},
   "outputs": [],
   "source": [
    "# Combine multiple text files into one\n",
    "\n",
    "file_names = [\n",
    "    'data/dev/joy-ratings-0to1.dev.gold.txt',\n",
    "    'data/test/joy-ratings-0to1.test.gold.txt',\n",
    "    'data/train/joy-ratings-0to1.train.txt',\n",
    "]\n",
    "\n",
    "with open('joy-ratings.txt', 'w', encoding='utf-8') as outfile:\n",
    "    for file_name in file_names:\n",
    "        with open(file_name, 'r', encoding='utf-8') as infile:\n",
    "            outfile.write(infile.read() + '\\n')"
   ]
  },
  {
   "cell_type": "code",
   "execution_count": 14,
   "metadata": {},
   "outputs": [],
   "source": [
    "# Combine multiple text files into one\n",
    "\n",
    "file_names = [\n",
    "    'data/dev/sadness-ratings-0to1.dev.gold.txt',\n",
    "    'data/test/sadness-ratings-0to1.test.gold.txt',\n",
    "    'data/train/sadness-ratings-0to1.train.txt',\n",
    "]\n",
    "\n",
    "with open('sadness-ratings.txt', 'w', encoding='utf-8') as outfile:\n",
    "    for file_name in file_names:\n",
    "        with open(file_name, 'r', encoding='utf-8') as infile:\n",
    "            outfile.write(infile.read() + '\\n')"
   ]
  },
  {
   "cell_type": "code",
   "execution_count": null,
   "metadata": {},
   "outputs": [],
   "source": [
    "\n",
    "\n",
    "    ,\n",
    "\n",
    "    '\n",
    "    \n",
    "    ,\n",
    "    \n",
    "    '"
   ]
  }
 ],
 "metadata": {
  "kernelspec": {
   "display_name": "Python 3",
   "language": "python",
   "name": "python3"
  },
  "language_info": {
   "codemirror_mode": {
    "name": "ipython",
    "version": 3
   },
   "file_extension": ".py",
   "mimetype": "text/x-python",
   "name": "python",
   "nbconvert_exporter": "python",
   "pygments_lexer": "ipython3",
   "version": "3.11.5"
  }
 },
 "nbformat": 4,
 "nbformat_minor": 2
}
